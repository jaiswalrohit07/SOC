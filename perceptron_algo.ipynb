{
  "nbformat": 4,
  "nbformat_minor": 0,
  "metadata": {
    "colab": {
      "name": "perceptron_algo.ipynb",
      "provenance": [],
      "toc_visible": true
    },
    "kernelspec": {
      "name": "python3",
      "display_name": "Python 3"
    },
    "language_info": {
      "name": "python"
    }
  },
  "cells": [
    {
      "cell_type": "code",
      "metadata": {
        "id": "F4FPxvGahAyZ"
      },
      "source": [
        "import numpy as np\n",
        "import matplotlib.pyplot as plt"
      ],
      "execution_count": 14,
      "outputs": []
    },
    {
      "cell_type": "code",
      "metadata": {
        "id": "6PlU3MdEhMX5"
      },
      "source": [
        "import numpy as np\n",
        "\n",
        "class perceptron:\n",
        "\n",
        "    def __init__(self , learning_rate = 0.01 , n = 1000):\n",
        "        self.lr = learning_rate\n",
        "        self.n_iters =  n\n",
        "        self.activation_function = self.unit_step_function\n",
        "        self.weights = None\n",
        "        self.bias = None\n",
        "\n",
        "\n",
        "    def fit(self , X,y):\n",
        "        n_sample , n_feature = X.shape\n",
        "\n",
        "\n",
        "        #init weight\n",
        "        self.weights = np.zeros(n_feature)\n",
        "        self.bias = 0\n",
        "\n",
        "        y_ =[]\n",
        "        for i in y:\n",
        "            if (i>0):\n",
        "                y_.append(1)\n",
        "            else:\n",
        "                y_.append(-1)\n",
        "        # y_ = np.array([1 if i>0 else 0 for i in y])\n",
        "\n",
        "        for _ in range(self.n_iters):\n",
        "            for idx, x_i in enumerate(X):\n",
        "                linear_output = np.dot(x_i , self.weights) + self.bias\n",
        "                y_predicted = self.activation_function(linear_output)\n",
        "\n",
        "                update = self.lr* (y_[idx]- y_predicted)\n",
        "                self.weights += update * x_i\n",
        "                self.bias +=update\n",
        "\n",
        "\n",
        "    def prediction(self , X):\n",
        "        linear_output = np.dot(X , self.weights) + self.bias\n",
        "        y_predicted = self.activation_function(linear_output)\n",
        "        return y_predicted\n",
        "\n",
        "    \n",
        "    def unit_step_function(self , x):\n",
        "         return np.where(x>=0 ,1, -1)"
      ],
      "execution_count": 50,
      "outputs": []
    },
    {
      "cell_type": "code",
      "metadata": {
        "id": "JTk8b92-iLjY"
      },
      "source": [
        ""
      ],
      "execution_count": 15,
      "outputs": []
    },
    {
      "cell_type": "markdown",
      "metadata": {
        "id": "sg_vL1y1f0hy"
      },
      "source": [
        "\n",
        "\n",
        "```\n",
        "# This is formatted as code\n",
        "```\n",
        "\n",
        "# New Section"
      ]
    },
    {
      "cell_type": "code",
      "metadata": {
        "id": "0E6s6DEfiXue"
      },
      "source": [
        "#print(Data)\n"
      ],
      "execution_count": 16,
      "outputs": []
    },
    {
      "cell_type": "code",
      "metadata": {
        "id": "eya2Bx0Peh6k"
      },
      "source": [
        "import pandas as pd\n",
        "\n",
        "def read_csv(filename):\n",
        "  data = pd.read_csv(filename) #Please add four spaces here before this line\n",
        "  return(np.array(data)) #Please add four spaces here before this line\n",
        "\n",
        "Data1 = read_csv('/content/appendix - Sheet1.csv')"
      ],
      "execution_count": 17,
      "outputs": []
    },
    {
      "cell_type": "code",
      "metadata": {
        "id": "Sk7trBO4ibZx",
        "colab": {
          "base_uri": "https://localhost:8080/"
        },
        "outputId": "f1b0cf20-baf1-4a5e-ad86-4ec1646bca95"
      },
      "source": [
        "Data1"
      ],
      "execution_count": 18,
      "outputs": [
        {
          "output_type": "execute_result",
          "data": {
            "text/plain": [
              "array([[1, '−0.6508', '0.1097', 4.0009, '−1.0000'],\n",
              "       [2, '−1.4492', '0.8896', 4.4005, '−1.0000'],\n",
              "       [3, '2.085', '0.6876', 12.071, '−1.0000'],\n",
              "       [4, '0.2626', '1.1476', 7.7985, '1'],\n",
              "       [5, '0.6418', '1.0234', 7.0427, '1'],\n",
              "       [6, '0.2569', '0.673', 8.3265, '−1.0000'],\n",
              "       [7, '1.1155', '0.6043', 7.4446, '1'],\n",
              "       [8, '0.0914', '0.3399', 7.0677, '−1.0000'],\n",
              "       [9, '0.0121', '0.5256', 4.6316, '1'],\n",
              "       [10, '−0.0429', '0.466', 5.4323, '1'],\n",
              "       [11, '0.434', '0.687', 8.2287, '−1.0000'],\n",
              "       [12, '0.2735', '1.0287', 7.1934, '1'],\n",
              "       [13, '0.4839', '0.4851', 7.485, '−1.0000'],\n",
              "       [14, '0.4089', '−0.1267', 5.5019, '−1.0000'],\n",
              "       [15, '1.4391', '0.1614', 8.5843, '−1.0000'],\n",
              "       [16, '−0.9115', '−0.1973', 2.1962, '−1.0000'],\n",
              "       [17, '0.3654', '1.0475', 7.4858, '1'],\n",
              "       [18, '0.2144', '0.7515', 7.1699, '1'],\n",
              "       [19, '0.2013', '1.0014', 6.5489, '1'],\n",
              "       [20, '0.6483', '0.2183', 5.8991, '1'],\n",
              "       [21, '−0.1147', '0.2242', 7.2435, '−1.0000'],\n",
              "       [22, '−0.7970', '0.8795', 3.8762, '1'],\n",
              "       [23, '−1.0625', '0.6366', 2.4707, '1'],\n",
              "       [24, '0.5307', '0.1285', 5.6883, '1'],\n",
              "       [25, '−1.2200', '0.7777', 1.7252, '1'],\n",
              "       [26, '0.3957', '0.1076', 5.6623, '−1.0000'],\n",
              "       [27, '−0.1013', '0.5989', 7.1812, '−1.0000'],\n",
              "       [28, '2.4482', '0.9455', 11.2095, '1'],\n",
              "       [29, '2.0149', '0.6192', 10.9263, '-1'],\n",
              "       [30, '0.2012', '0.2611', 5.4631, '1']], dtype=object)"
            ]
          },
          "metadata": {
            "tags": []
          },
          "execution_count": 18
        }
      ]
    },
    {
      "cell_type": "code",
      "metadata": {
        "colab": {
          "base_uri": "https://localhost:8080/"
        },
        "id": "LptoBSFHgYUC",
        "outputId": "08a7dc29-f509-44b8-9439-6561a42e8485"
      },
      "source": [
        "start = 1\n",
        "Anew = Data1[1:4,1:]\n",
        "print(Anew)"
      ],
      "execution_count": 19,
      "outputs": [
        {
          "output_type": "stream",
          "text": [
            "[['−1.4492' '0.8896' 4.4005 '−1.0000']\n",
            " ['2.085' '0.6876' 12.071 '−1.0000']\n",
            " ['0.2626' '1.1476' 7.7985 '1']]\n"
          ],
          "name": "stdout"
        }
      ]
    },
    {
      "cell_type": "code",
      "metadata": {
        "id": "qxbyFhWVjInA",
        "colab": {
          "base_uri": "https://localhost:8080/",
          "height": 239
        },
        "outputId": "ab401436-f0d2-4fc6-e927-f1fd1cfca631"
      },
      "source": [
        "\n",
        "  \n",
        "#Data1 = ', '.join(Data1)\n",
        "#D = np.fromstring(Data1, dtype = np.float, sep =', ' )\n",
        "  \n",
        "# printing final result\n",
        "#rint (\"final array\", str(Data1))\n"
      ],
      "execution_count": 20,
      "outputs": [
        {
          "output_type": "error",
          "ename": "ValueError",
          "evalue": "ignored",
          "traceback": [
            "\u001b[0;31m---------------------------------------------------------------------------\u001b[0m",
            "\u001b[0;31mValueError\u001b[0m                                Traceback (most recent call last)",
            "\u001b[0;32m<ipython-input-20-923864c033b2>\u001b[0m in \u001b[0;36m<module>\u001b[0;34m()\u001b[0m\n\u001b[1;32m      2\u001b[0m \u001b[0;34m\u001b[0m\u001b[0m\n\u001b[1;32m      3\u001b[0m \u001b[0;31m#Data1 = ', '.join(Data1)\u001b[0m\u001b[0;34m\u001b[0m\u001b[0;34m\u001b[0m\u001b[0;34m\u001b[0m\u001b[0m\n\u001b[0;32m----> 4\u001b[0;31m \u001b[0mD\u001b[0m \u001b[0;34m=\u001b[0m \u001b[0mnp\u001b[0m\u001b[0;34m.\u001b[0m\u001b[0mfromstring\u001b[0m\u001b[0;34m(\u001b[0m\u001b[0mData1\u001b[0m\u001b[0;34m,\u001b[0m \u001b[0mdtype\u001b[0m \u001b[0;34m=\u001b[0m \u001b[0mnp\u001b[0m\u001b[0;34m.\u001b[0m\u001b[0mfloat\u001b[0m\u001b[0;34m,\u001b[0m \u001b[0msep\u001b[0m \u001b[0;34m=\u001b[0m\u001b[0;34m', '\u001b[0m \u001b[0;34m)\u001b[0m\u001b[0;34m\u001b[0m\u001b[0;34m\u001b[0m\u001b[0m\n\u001b[0m\u001b[1;32m      5\u001b[0m \u001b[0;34m\u001b[0m\u001b[0m\n\u001b[1;32m      6\u001b[0m \u001b[0;31m# printing final result\u001b[0m\u001b[0;34m\u001b[0m\u001b[0;34m\u001b[0m\u001b[0;34m\u001b[0m\u001b[0m\n",
            "\u001b[0;31mValueError\u001b[0m: ndarray is not C-contiguous"
          ]
        }
      ]
    },
    {
      "cell_type": "code",
      "metadata": {
        "colab": {
          "base_uri": "https://localhost:8080/"
        },
        "id": "urBWbswjdilR",
        "outputId": "c05c8a16-ade1-4f1b-fd53-49d8d00255bd"
      },
      "source": [
        "pred = Data1[22: , 1:4]\n",
        "print(pred)"
      ],
      "execution_count": 21,
      "outputs": [
        {
          "output_type": "stream",
          "text": [
            "[['−1.0625' '0.6366' 2.4707]\n",
            " ['0.5307' '0.1285' 5.6883]\n",
            " ['−1.2200' '0.7777' 1.7252]\n",
            " ['0.3957' '0.1076' 5.6623]\n",
            " ['−0.1013' '0.5989' 7.1812]\n",
            " ['2.4482' '0.9455' 11.2095]\n",
            " ['2.0149' '0.6192' 10.9263]\n",
            " ['0.2012' '0.2611' 5.4631]]\n"
          ],
          "name": "stdout"
        }
      ]
    },
    {
      "cell_type": "code",
      "metadata": {
        "colab": {
          "base_uri": "https://localhost:8080/"
        },
        "id": "7UcdxADNiOWL",
        "outputId": "fa73c721-373f-48c9-cfbd-5dc5417918e6"
      },
      "source": [
        "test_output = Data1[:22 , 4]\n",
        "print(test_output)"
      ],
      "execution_count": 22,
      "outputs": [
        {
          "output_type": "stream",
          "text": [
            "['−1.0000' '−1.0000' '−1.0000' '1' '1' '−1.0000' '1' '−1.0000' '1' '1'\n",
            " '−1.0000' '1' '−1.0000' '−1.0000' '−1.0000' '−1.0000' '1' '1' '1' '1'\n",
            " '−1.0000' '1']\n"
          ],
          "name": "stdout"
        }
      ]
    },
    {
      "cell_type": "code",
      "metadata": {
        "colab": {
          "base_uri": "https://localhost:8080/"
        },
        "id": "-PksE8nshZeS",
        "outputId": "cf01ae1d-a657-4aa8-dc54-675d07e0c4a1"
      },
      "source": [
        "pred_output = Data1[22: , 4]\n",
        "print(pred_output)"
      ],
      "execution_count": 23,
      "outputs": [
        {
          "output_type": "stream",
          "text": [
            "['1' '1' '1' '−1.0000' '−1.0000' '1' '-1' '1']\n"
          ],
          "name": "stdout"
        }
      ]
    },
    {
      "cell_type": "markdown",
      "metadata": {
        "id": "-whzewsAhpg0"
      },
      "source": [
        "Now we have testcase , pred value , algorithm , So lets test samples"
      ]
    },
    {
      "cell_type": "code",
      "metadata": {
        "colab": {
          "base_uri": "https://localhost:8080/"
        },
        "id": "fXA3KmXLhz78",
        "outputId": "ac36a3a7-cfe0-41ff-a3d2-f2d14720839f"
      },
      "source": [
        "#import perceptron as Perceptron\n",
        "p = perceptron(learning_rate = 0.01 , n = 1000)\n",
        "test1 = np.array([[ -0.6508, 0.1097 ,4.0009],\n",
        "         [-1.4492,0.8896,4.4005],\n",
        "         [2.085,0.6876,12.071],\n",
        "         [0.2626,1.1476,7.7985],\n",
        "         [0.6418,1.0234,7.0427],\n",
        "         [0.2569,0.673,8.3265]])\n",
        "        \n",
        "       \n",
        "\n",
        "out = np.array([-1.0000,-1.0000 ,-1.0000,1, 1, -1])\n",
        "#p.fit( test1 , out)\n",
        "#print(test1)\n",
        "\n",
        "p.fit( test1 , out)\n",
        "#print(test1.shape)\n",
        "pp = np.array([[-1.4492,0.8896,4.4005],[2.085,0.6876,12.071],[ 0.0121, 0.5256, 4.6316],[ -0.0429, 0.466, 5.4323 ]])\n",
        "#pp = np.array([1.1155, 0.6043, 7.4446])\n",
        "p.prediction(pp)"
      ],
      "execution_count": 81,
      "outputs": [
        {
          "output_type": "execute_result",
          "data": {
            "text/plain": [
              "array([-1, -1, -1, -1])"
            ]
          },
          "metadata": {
            "tags": []
          },
          "execution_count": 81
        }
      ]
    },
    {
      "cell_type": "markdown",
      "metadata": {
        "id": "_IjCY08ZnuES"
      },
      "source": [
        "predict"
      ]
    },
    {
      "cell_type": "code",
      "metadata": {
        "id": "cvDUZ33Wiysf",
        "colab": {
          "base_uri": "https://localhost:8080/"
        },
        "outputId": "07b3e376-2870-41fc-bd06-b65f6f90eaf7"
      },
      "source": [
        "p = perceptron(learning_rate = 0.01 , n = 1000)\n",
        "test2 = np.array([[ -0.6508, 0.1097 ,4.0009],\n",
        "         [-1.4492,0.8896,4.4005],\n",
        "         [2.085,0.6876,12.071],\n",
        "         [0.2626,1.1476,7.7985],\n",
        "         [0.6418,1.0234,7.0427],\n",
        "         [0.2569,0.673,8.3265],\n",
        "         [1.1155, 0.6043, 7.4446,],\n",
        "         [0.0914, 0.3399, 7.0677],\n",
        "       [ 0.0121, 0.5256, 4.6316],\n",
        "       [ -0.0429, 0.466, 5.4323 ],\n",
        "       [0.434, 0.687, 8.2287],\n",
        "       [0.2735, 1.0287, 7.1934],\n",
        "       [0.4839, 0.4851, 7.485],\n",
        "       [0.4089, -0.1267, 5.5019],\n",
        "       [1.4391, 0.1614, 8.5843],\n",
        "       [-0.9115, -0.1973, 2.1962],\n",
        "       [0.3654, 1.0475, 7.4858],\n",
        "       [0.2144, 0.7515, 7.1699],\n",
        "       [0.2013, 1.0014, 6.5489],\n",
        "       [0.6483, 0.2183, 5.8991],\n",
        "       [-0.1147, 0.2242, 7.2435],\n",
        "       [-0.7970, 0.8795, 3.8762,]])\n",
        "#  [-1.0625, 0.6366, 2.4707],\n",
        "#        [0.5307, 0.1285, 5.6883],\n",
        "#        [-1.2200, 0.7777, 1.7252],\n",
        "#        [0.3957, 0.1076, 5.6623],\n",
        "#        [-0.1013, 0.5989, 7.1812],\n",
        "#        [2.4482, 0.9455, 11.2095],\n",
        "#        [2.0149, 0.6192, 10.9263,],\n",
        "#        [0.2012, 0.2611, 5.4631]])\n",
        "\n",
        "      \n",
        "out2 = [-1.0000,-1.0000 ,-1.0000,1, 1, -1.0000, 1, 1.0000, 1, 1,\n",
        " -1.0000 ,1 ,-1.0000 ,-1.0000 ,-1.0000 ,-1.0000, 1 ,1 ,1 ,1 ,-1.0000 ,1]\n",
        "\n",
        "p.fit(test2 ,out2)\n",
        "\n",
        "pp2 =np.array( [[-1.0625, 0.6366, 2.4707],[0.5307, 0.1285, 5.6883], [-1.2200, 0.7777, 1.7252],[0.3957, 0.1076, 5.6623], [-0.1013, 0.5989, 7.1812],[2.4482, 0.9455, 11.2095],[2.0149, 0.6192, 10.9263,], [0.2012, 0.2611, 5.4631]])\n",
        "p.prediction(pp2)\n"
      ],
      "execution_count": 82,
      "outputs": [
        {
          "output_type": "execute_result",
          "data": {
            "text/plain": [
              "array([ 1,  1,  1,  1, -1,  1,  1,  1])"
            ]
          },
          "metadata": {
            "tags": []
          },
          "execution_count": 82
        }
      ]
    },
    {
      "cell_type": "markdown",
      "metadata": {
        "id": "DPoxvtW23VfN"
      },
      "source": [
        ""
      ]
    },
    {
      "cell_type": "code",
      "metadata": {
        "id": "cV6jkCjgkoje"
      },
      "source": [
        ""
      ],
      "execution_count": null,
      "outputs": []
    }
  ]
}